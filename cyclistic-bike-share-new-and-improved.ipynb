{
 "cells": [
  {
   "cell_type": "code",
   "execution_count": 1,
   "id": "e187de21",
   "metadata": {
    "_cell_guid": "b39c809a-1c7a-42c5-88fc-1d9bf786606b",
    "_uuid": "5fa59dfd-fd5f-4a19-9363-62a0c4a8e25b",
    "collapsed": false,
    "execution": {
     "iopub.execute_input": "2024-07-14T20:36:33.547373Z",
     "iopub.status.busy": "2024-07-14T20:36:33.544561Z",
     "iopub.status.idle": "2024-07-14T20:36:35.006110Z",
     "shell.execute_reply": "2024-07-14T20:36:35.003420Z"
    },
    "jupyter": {
     "outputs_hidden": false
    },
    "papermill": {
     "duration": 1.475306,
     "end_time": "2024-07-14T20:36:35.009146",
     "exception": false,
     "start_time": "2024-07-14T20:36:33.533840",
     "status": "completed"
    },
    "tags": []
   },
   "outputs": [
    {
     "name": "stderr",
     "output_type": "stream",
     "text": [
      "── \u001b[1mAttaching core tidyverse packages\u001b[22m ──────────────────────── tidyverse 2.0.0 ──\n",
      "\u001b[32m✔\u001b[39m \u001b[34mdplyr    \u001b[39m 1.1.4     \u001b[32m✔\u001b[39m \u001b[34mreadr    \u001b[39m 2.1.5\n",
      "\u001b[32m✔\u001b[39m \u001b[34mforcats  \u001b[39m 1.0.0     \u001b[32m✔\u001b[39m \u001b[34mstringr  \u001b[39m 1.5.1\n",
      "\u001b[32m✔\u001b[39m \u001b[34mggplot2  \u001b[39m 3.5.1     \u001b[32m✔\u001b[39m \u001b[34mtibble   \u001b[39m 3.2.1\n",
      "\u001b[32m✔\u001b[39m \u001b[34mlubridate\u001b[39m 1.9.3     \u001b[32m✔\u001b[39m \u001b[34mtidyr    \u001b[39m 1.3.1\n",
      "\u001b[32m✔\u001b[39m \u001b[34mpurrr    \u001b[39m 1.0.2     \n"
     ]
    },
    {
     "name": "stderr",
     "output_type": "stream",
     "text": [
      "── \u001b[1mConflicts\u001b[22m ────────────────────────────────────────── tidyverse_conflicts() ──\n",
      "\u001b[31m✖\u001b[39m \u001b[34mdplyr\u001b[39m::\u001b[32mfilter()\u001b[39m masks \u001b[34mstats\u001b[39m::filter()\n",
      "\u001b[31m✖\u001b[39m \u001b[34mdplyr\u001b[39m::\u001b[32mlag()\u001b[39m    masks \u001b[34mstats\u001b[39m::lag()\n",
      "\u001b[36mℹ\u001b[39m Use the conflicted package (\u001b[3m\u001b[34m<http://conflicted.r-lib.org/>\u001b[39m\u001b[23m) to force all conflicts to become errors\n"
     ]
    }
   ],
   "source": [
    "library(tidyverse)\n",
    "library(lubridate)\n"
   ]
  },
  {
   "cell_type": "markdown",
   "id": "50b29720",
   "metadata": {
    "execution": {
     "iopub.execute_input": "2024-07-14T17:40:05.927244Z",
     "iopub.status.busy": "2024-07-14T17:40:05.925432Z",
     "iopub.status.idle": "2024-07-14T17:40:05.941210Z"
    },
    "papermill": {
     "duration": 0.007107,
     "end_time": "2024-07-14T20:36:35.023701",
     "exception": false,
     "start_time": "2024-07-14T20:36:35.016594",
     "status": "completed"
    },
    "tags": []
   },
   "source": [
    "## Loading and Merging 12 Monthly CSV Files\n",
    "\n"
   ]
  },
  {
   "cell_type": "code",
   "execution_count": 2,
   "id": "9816e893",
   "metadata": {
    "execution": {
     "iopub.execute_input": "2024-07-14T20:36:35.075570Z",
     "iopub.status.busy": "2024-07-14T20:36:35.039883Z",
     "iopub.status.idle": "2024-07-14T20:37:22.940766Z",
     "shell.execute_reply": "2024-07-14T20:37:22.938669Z"
    },
    "papermill": {
     "duration": 47.913543,
     "end_time": "2024-07-14T20:37:22.944202",
     "exception": false,
     "start_time": "2024-07-14T20:36:35.030659",
     "status": "completed"
    },
    "tags": []
   },
   "outputs": [
    {
     "name": "stderr",
     "output_type": "stream",
     "text": [
      "\u001b[1mRows: \u001b[22m\u001b[34m337230\u001b[39m \u001b[1mColumns: \u001b[22m\u001b[34m13\u001b[39m\n"
     ]
    },
    {
     "name": "stderr",
     "output_type": "stream",
     "text": [
      "\u001b[36m──\u001b[39m \u001b[1mColumn specification\u001b[22m \u001b[36m────────────────────────────────────────────────────────\u001b[39m\n",
      "\u001b[1mDelimiter:\u001b[22m \",\"\n",
      "\u001b[31mchr\u001b[39m  (7): ride_id, rideable_type, start_station_name, start_station_id, end_...\n",
      "\u001b[32mdbl\u001b[39m  (4): start_lat, start_lng, end_lat, end_lng\n",
      "\u001b[34mdttm\u001b[39m (2): started_at, ended_at\n"
     ]
    },
    {
     "name": "stderr",
     "output_type": "stream",
     "text": [
      "\n",
      "\u001b[36mℹ\u001b[39m Use `spec()` to retrieve the full column specification for this data.\n",
      "\u001b[36mℹ\u001b[39m Specify the column types or set `show_col_types = FALSE` to quiet this message.\n"
     ]
    },
    {
     "name": "stderr",
     "output_type": "stream",
     "text": [
      "\u001b[1mRows: \u001b[22m\u001b[34m531633\u001b[39m \u001b[1mColumns: \u001b[22m\u001b[34m13\u001b[39m\n"
     ]
    },
    {
     "name": "stderr",
     "output_type": "stream",
     "text": [
      "\u001b[36m──\u001b[39m \u001b[1mColumn specification\u001b[22m \u001b[36m────────────────────────────────────────────────────────\u001b[39m\n",
      "\u001b[1mDelimiter:\u001b[22m \",\"\n",
      "\u001b[31mchr\u001b[39m  (7): ride_id, rideable_type, start_station_name, start_station_id, end_...\n",
      "\u001b[32mdbl\u001b[39m  (4): start_lat, start_lng, end_lat, end_lng\n",
      "\u001b[34mdttm\u001b[39m (2): started_at, ended_at\n"
     ]
    },
    {
     "name": "stderr",
     "output_type": "stream",
     "text": [
      "\n",
      "\u001b[36mℹ\u001b[39m Use `spec()` to retrieve the full column specification for this data.\n",
      "\u001b[36mℹ\u001b[39m Specify the column types or set `show_col_types = FALSE` to quiet this message.\n"
     ]
    },
    {
     "name": "stderr",
     "output_type": "stream",
     "text": [
      "\u001b[1mRows: \u001b[22m\u001b[34m729595\u001b[39m \u001b[1mColumns: \u001b[22m\u001b[34m13\u001b[39m\n"
     ]
    },
    {
     "name": "stderr",
     "output_type": "stream",
     "text": [
      "\u001b[36m──\u001b[39m \u001b[1mColumn specification\u001b[22m \u001b[36m────────────────────────────────────────────────────────\u001b[39m\n",
      "\u001b[1mDelimiter:\u001b[22m \",\"\n",
      "\u001b[31mchr\u001b[39m  (7): ride_id, rideable_type, start_station_name, start_station_id, end_...\n",
      "\u001b[32mdbl\u001b[39m  (4): start_lat, start_lng, end_lat, end_lng\n",
      "\u001b[34mdttm\u001b[39m (2): started_at, ended_at\n"
     ]
    },
    {
     "name": "stderr",
     "output_type": "stream",
     "text": [
      "\n",
      "\u001b[36mℹ\u001b[39m Use `spec()` to retrieve the full column specification for this data.\n",
      "\u001b[36mℹ\u001b[39m Specify the column types or set `show_col_types = FALSE` to quiet this message.\n"
     ]
    },
    {
     "name": "stderr",
     "output_type": "stream",
     "text": [
      "\u001b[1mRows: \u001b[22m\u001b[34m822410\u001b[39m \u001b[1mColumns: \u001b[22m\u001b[34m13\u001b[39m\n"
     ]
    },
    {
     "name": "stderr",
     "output_type": "stream",
     "text": [
      "\u001b[36m──\u001b[39m \u001b[1mColumn specification\u001b[22m \u001b[36m────────────────────────────────────────────────────────\u001b[39m\n",
      "\u001b[1mDelimiter:\u001b[22m \",\"\n",
      "\u001b[31mchr\u001b[39m  (7): ride_id, rideable_type, start_station_name, start_station_id, end_...\n",
      "\u001b[32mdbl\u001b[39m  (4): start_lat, start_lng, end_lat, end_lng\n",
      "\u001b[34mdttm\u001b[39m (2): started_at, ended_at\n"
     ]
    },
    {
     "name": "stderr",
     "output_type": "stream",
     "text": [
      "\n",
      "\u001b[36mℹ\u001b[39m Use `spec()` to retrieve the full column specification for this data.\n",
      "\u001b[36mℹ\u001b[39m Specify the column types or set `show_col_types = FALSE` to quiet this message.\n"
     ]
    },
    {
     "name": "stderr",
     "output_type": "stream",
     "text": [
      "\u001b[1mRows: \u001b[22m\u001b[34m804352\u001b[39m \u001b[1mColumns: \u001b[22m\u001b[34m13\u001b[39m\n"
     ]
    },
    {
     "name": "stderr",
     "output_type": "stream",
     "text": [
      "\u001b[36m──\u001b[39m \u001b[1mColumn specification\u001b[22m \u001b[36m────────────────────────────────────────────────────────\u001b[39m\n",
      "\u001b[1mDelimiter:\u001b[22m \",\"\n",
      "\u001b[31mchr\u001b[39m  (7): ride_id, rideable_type, start_station_name, start_station_id, end_...\n",
      "\u001b[32mdbl\u001b[39m  (4): start_lat, start_lng, end_lat, end_lng\n",
      "\u001b[34mdttm\u001b[39m (2): started_at, ended_at\n"
     ]
    },
    {
     "name": "stderr",
     "output_type": "stream",
     "text": [
      "\n",
      "\u001b[36mℹ\u001b[39m Use `spec()` to retrieve the full column specification for this data.\n",
      "\u001b[36mℹ\u001b[39m Specify the column types or set `show_col_types = FALSE` to quiet this message.\n"
     ]
    },
    {
     "name": "stderr",
     "output_type": "stream",
     "text": [
      "\u001b[1mRows: \u001b[22m\u001b[34m756147\u001b[39m \u001b[1mColumns: \u001b[22m\u001b[34m13\u001b[39m\n"
     ]
    },
    {
     "name": "stderr",
     "output_type": "stream",
     "text": [
      "\u001b[36m──\u001b[39m \u001b[1mColumn specification\u001b[22m \u001b[36m────────────────────────────────────────────────────────\u001b[39m\n",
      "\u001b[1mDelimiter:\u001b[22m \",\"\n",
      "\u001b[31mchr\u001b[39m  (7): ride_id, rideable_type, start_station_name, start_station_id, end_...\n",
      "\u001b[32mdbl\u001b[39m  (4): start_lat, start_lng, end_lat, end_lng\n",
      "\u001b[34mdttm\u001b[39m (2): started_at, ended_at\n"
     ]
    },
    {
     "name": "stderr",
     "output_type": "stream",
     "text": [
      "\n",
      "\u001b[36mℹ\u001b[39m Use `spec()` to retrieve the full column specification for this data.\n",
      "\u001b[36mℹ\u001b[39m Specify the column types or set `show_col_types = FALSE` to quiet this message.\n"
     ]
    },
    {
     "name": "stderr",
     "output_type": "stream",
     "text": [
      "\u001b[1mRows: \u001b[22m\u001b[34m631226\u001b[39m \u001b[1mColumns: \u001b[22m\u001b[34m13\u001b[39m\n"
     ]
    },
    {
     "name": "stderr",
     "output_type": "stream",
     "text": [
      "\u001b[36m──\u001b[39m \u001b[1mColumn specification\u001b[22m \u001b[36m────────────────────────────────────────────────────────\u001b[39m\n",
      "\u001b[1mDelimiter:\u001b[22m \",\"\n",
      "\u001b[31mchr\u001b[39m  (7): ride_id, rideable_type, start_station_name, start_station_id, end_...\n",
      "\u001b[32mdbl\u001b[39m  (4): start_lat, start_lng, end_lat, end_lng\n",
      "\u001b[34mdttm\u001b[39m (2): started_at, ended_at\n"
     ]
    },
    {
     "name": "stderr",
     "output_type": "stream",
     "text": [
      "\n",
      "\u001b[36mℹ\u001b[39m Use `spec()` to retrieve the full column specification for this data.\n",
      "\u001b[36mℹ\u001b[39m Specify the column types or set `show_col_types = FALSE` to quiet this message.\n"
     ]
    },
    {
     "name": "stderr",
     "output_type": "stream",
     "text": [
      "\u001b[1mRows: \u001b[22m\u001b[34m359978\u001b[39m \u001b[1mColumns: \u001b[22m\u001b[34m13\u001b[39m\n"
     ]
    },
    {
     "name": "stderr",
     "output_type": "stream",
     "text": [
      "\u001b[36m──\u001b[39m \u001b[1mColumn specification\u001b[22m \u001b[36m────────────────────────────────────────────────────────\u001b[39m\n",
      "\u001b[1mDelimiter:\u001b[22m \",\"\n",
      "\u001b[31mchr\u001b[39m  (7): ride_id, rideable_type, start_station_name, start_station_id, end_...\n",
      "\u001b[32mdbl\u001b[39m  (4): start_lat, start_lng, end_lat, end_lng\n",
      "\u001b[34mdttm\u001b[39m (2): started_at, ended_at\n"
     ]
    },
    {
     "name": "stderr",
     "output_type": "stream",
     "text": [
      "\n",
      "\u001b[36mℹ\u001b[39m Use `spec()` to retrieve the full column specification for this data.\n",
      "\u001b[36mℹ\u001b[39m Specify the column types or set `show_col_types = FALSE` to quiet this message.\n"
     ]
    },
    {
     "name": "stderr",
     "output_type": "stream",
     "text": [
      "\u001b[1mRows: \u001b[22m\u001b[34m247540\u001b[39m \u001b[1mColumns: \u001b[22m\u001b[34m13\u001b[39m\n"
     ]
    },
    {
     "name": "stderr",
     "output_type": "stream",
     "text": [
      "\u001b[36m──\u001b[39m \u001b[1mColumn specification\u001b[22m \u001b[36m────────────────────────────────────────────────────────\u001b[39m\n",
      "\u001b[1mDelimiter:\u001b[22m \",\"\n",
      "\u001b[31mchr\u001b[39m  (7): ride_id, rideable_type, start_station_name, start_station_id, end_...\n",
      "\u001b[32mdbl\u001b[39m  (4): start_lat, start_lng, end_lat, end_lng\n",
      "\u001b[34mdttm\u001b[39m (2): started_at, ended_at\n"
     ]
    },
    {
     "name": "stderr",
     "output_type": "stream",
     "text": [
      "\n",
      "\u001b[36mℹ\u001b[39m Use `spec()` to retrieve the full column specification for this data.\n",
      "\u001b[36mℹ\u001b[39m Specify the column types or set `show_col_types = FALSE` to quiet this message.\n"
     ]
    },
    {
     "name": "stderr",
     "output_type": "stream",
     "text": [
      "\u001b[1mRows: \u001b[22m\u001b[34m103770\u001b[39m \u001b[1mColumns: \u001b[22m\u001b[34m13\u001b[39m\n"
     ]
    },
    {
     "name": "stderr",
     "output_type": "stream",
     "text": [
      "\u001b[36m──\u001b[39m \u001b[1mColumn specification\u001b[22m \u001b[36m────────────────────────────────────────────────────────\u001b[39m\n",
      "\u001b[1mDelimiter:\u001b[22m \",\"\n",
      "\u001b[31mchr\u001b[39m  (7): ride_id, rideable_type, start_station_name, start_station_id, end_...\n",
      "\u001b[32mdbl\u001b[39m  (4): start_lat, start_lng, end_lat, end_lng\n",
      "\u001b[34mdttm\u001b[39m (2): started_at, ended_at\n"
     ]
    },
    {
     "name": "stderr",
     "output_type": "stream",
     "text": [
      "\n",
      "\u001b[36mℹ\u001b[39m Use `spec()` to retrieve the full column specification for this data.\n",
      "\u001b[36mℹ\u001b[39m Specify the column types or set `show_col_types = FALSE` to quiet this message.\n"
     ]
    },
    {
     "name": "stderr",
     "output_type": "stream",
     "text": [
      "\u001b[1mRows: \u001b[22m\u001b[34m115609\u001b[39m \u001b[1mColumns: \u001b[22m\u001b[34m13\u001b[39m\n"
     ]
    },
    {
     "name": "stderr",
     "output_type": "stream",
     "text": [
      "\u001b[36m──\u001b[39m \u001b[1mColumn specification\u001b[22m \u001b[36m────────────────────────────────────────────────────────\u001b[39m\n",
      "\u001b[1mDelimiter:\u001b[22m \",\"\n",
      "\u001b[31mchr\u001b[39m  (7): ride_id, rideable_type, start_station_name, start_station_id, end_...\n",
      "\u001b[32mdbl\u001b[39m  (4): start_lat, start_lng, end_lat, end_lng\n",
      "\u001b[34mdttm\u001b[39m (2): started_at, ended_at\n"
     ]
    },
    {
     "name": "stderr",
     "output_type": "stream",
     "text": [
      "\n",
      "\u001b[36mℹ\u001b[39m Use `spec()` to retrieve the full column specification for this data.\n",
      "\u001b[36mℹ\u001b[39m Specify the column types or set `show_col_types = FALSE` to quiet this message.\n"
     ]
    },
    {
     "name": "stderr",
     "output_type": "stream",
     "text": [
      "\u001b[1mRows: \u001b[22m\u001b[34m284042\u001b[39m \u001b[1mColumns: \u001b[22m\u001b[34m13\u001b[39m\n"
     ]
    },
    {
     "name": "stderr",
     "output_type": "stream",
     "text": [
      "\u001b[36m──\u001b[39m \u001b[1mColumn specification\u001b[22m \u001b[36m────────────────────────────────────────────────────────\u001b[39m\n",
      "\u001b[1mDelimiter:\u001b[22m \",\"\n",
      "\u001b[31mchr\u001b[39m  (7): ride_id, rideable_type, start_station_name, start_station_id, end_...\n",
      "\u001b[32mdbl\u001b[39m  (4): start_lat, start_lng, end_lat, end_lng\n",
      "\u001b[34mdttm\u001b[39m (2): started_at, ended_at\n"
     ]
    },
    {
     "name": "stderr",
     "output_type": "stream",
     "text": [
      "\n",
      "\u001b[36mℹ\u001b[39m Use `spec()` to retrieve the full column specification for this data.\n",
      "\u001b[36mℹ\u001b[39m Specify the column types or set `show_col_types = FALSE` to quiet this message.\n"
     ]
    }
   ],
   "source": [
    "# Set the directory containing the CSV files\n",
    "directory <- \"/kaggle/input/cyclistic-bike-share/\"\n",
    "\n",
    "# List all CSV files in the directory\n",
    "file_list <- list.files(path = directory, pattern = \"*.csv\", full.names = TRUE)\n",
    "\n",
    "# Read and combine the CSV files into a single data frame\n",
    "combined_data <- file_list %>%\n",
    "  map_df(read_csv)\n",
    "\n"
   ]
  },
  {
   "cell_type": "code",
   "execution_count": 3,
   "id": "e6e0ee4a",
   "metadata": {
    "execution": {
     "iopub.execute_input": "2024-07-14T20:37:22.971355Z",
     "iopub.status.busy": "2024-07-14T20:37:22.969614Z",
     "iopub.status.idle": "2024-07-14T20:37:22.990556Z",
     "shell.execute_reply": "2024-07-14T20:37:22.988526Z"
    },
    "papermill": {
     "duration": 0.037602,
     "end_time": "2024-07-14T20:37:22.993437",
     "exception": false,
     "start_time": "2024-07-14T20:37:22.955835",
     "status": "completed"
    },
    "tags": []
   },
   "outputs": [
    {
     "data": {
      "text/html": [
       "<style>\n",
       ".list-inline {list-style: none; margin:0; padding: 0}\n",
       ".list-inline>li {display: inline-block}\n",
       ".list-inline>li:not(:last-child)::after {content: \"\\00b7\"; padding: 0 .5ex}\n",
       "</style>\n",
       "<ol class=list-inline><li>5723532</li><li>13</li></ol>\n"
      ],
      "text/latex": [
       "\\begin{enumerate*}\n",
       "\\item 5723532\n",
       "\\item 13\n",
       "\\end{enumerate*}\n"
      ],
      "text/markdown": [
       "1. 5723532\n",
       "2. 13\n",
       "\n",
       "\n"
      ],
      "text/plain": [
       "[1] 5723532      13"
      ]
     },
     "metadata": {},
     "output_type": "display_data"
    }
   ],
   "source": [
    "dim(combined_data)"
   ]
  },
  {
   "cell_type": "code",
   "execution_count": 4,
   "id": "63b1587e",
   "metadata": {
    "execution": {
     "iopub.execute_input": "2024-07-14T20:37:23.021568Z",
     "iopub.status.busy": "2024-07-14T20:37:23.019826Z",
     "iopub.status.idle": "2024-07-14T20:37:25.822037Z",
     "shell.execute_reply": "2024-07-14T20:37:25.820147Z"
    },
    "papermill": {
     "duration": 2.818551,
     "end_time": "2024-07-14T20:37:25.824776",
     "exception": false,
     "start_time": "2024-07-14T20:37:23.006225",
     "status": "completed"
    },
    "tags": []
   },
   "outputs": [
    {
     "data": {
      "text/html": [
       "<style>\n",
       ".list-inline {list-style: none; margin:0; padding: 0}\n",
       ".list-inline>li {display: inline-block}\n",
       ".list-inline>li:not(:last-child)::after {content: \"\\00b7\"; padding: 0 .5ex}\n",
       "</style>\n",
       "<ol class=list-inline><li>4978156</li><li>13</li></ol>\n"
      ],
      "text/latex": [
       "\\begin{enumerate*}\n",
       "\\item 4978156\n",
       "\\item 13\n",
       "\\end{enumerate*}\n"
      ],
      "text/markdown": [
       "1. 4978156\n",
       "2. 13\n",
       "\n",
       "\n"
      ],
      "text/plain": [
       "[1] 4978156      13"
      ]
     },
     "metadata": {},
     "output_type": "display_data"
    }
   ],
   "source": [
    "combined_data <- combined_data %>%\n",
    "   filter(!is.na(start_station_name))\n",
    "dim(combined_data)"
   ]
  },
  {
   "cell_type": "code",
   "execution_count": 5,
   "id": "0068b11b",
   "metadata": {
    "execution": {
     "iopub.execute_input": "2024-07-14T20:37:25.850985Z",
     "iopub.status.busy": "2024-07-14T20:37:25.849098Z",
     "iopub.status.idle": "2024-07-14T20:37:26.071450Z",
     "shell.execute_reply": "2024-07-14T20:37:26.069442Z"
    },
    "papermill": {
     "duration": 0.238483,
     "end_time": "2024-07-14T20:37:26.074271",
     "exception": false,
     "start_time": "2024-07-14T20:37:25.835788",
     "status": "completed"
    },
    "tags": []
   },
   "outputs": [],
   "source": [
    "combined_data <- combined_data %>%\n",
    "  mutate(end_date = as.Date(ended_at),\n",
    "         start_date = as.Date(started_at))\n"
   ]
  },
  {
   "cell_type": "code",
   "execution_count": 6,
   "id": "f8c607dd",
   "metadata": {
    "execution": {
     "iopub.execute_input": "2024-07-14T20:37:26.100271Z",
     "iopub.status.busy": "2024-07-14T20:37:26.098568Z",
     "iopub.status.idle": "2024-07-14T20:37:30.096971Z",
     "shell.execute_reply": "2024-07-14T20:37:30.094990Z"
    },
    "papermill": {
     "duration": 4.014648,
     "end_time": "2024-07-14T20:37:30.099796",
     "exception": false,
     "start_time": "2024-07-14T20:37:26.085148",
     "status": "completed"
    },
    "tags": []
   },
   "outputs": [
    {
     "data": {
      "text/plain": [
       "   ride_id          rideable_type        started_at                    \n",
       " Length:4978156     Length:4978156     Min.   :2021-04-01 00:03:18.00  \n",
       " Class :character   Class :character   1st Qu.:2021-06-20 01:09:13.75  \n",
       " Mode  :character   Mode  :character   Median :2021-08-14 16:17:17.50  \n",
       "                                       Mean   :2021-08-23 22:55:20.92  \n",
       "                                       3rd Qu.:2021-10-10 09:45:27.50  \n",
       "                                       Max.   :2022-03-31 23:59:47.00  \n",
       "                                                                       \n",
       "    ended_at                      start_station_name start_station_id  \n",
       " Min.   :2021-04-01 00:14:29.00   Length:4978156     Length:4978156    \n",
       " 1st Qu.:2021-06-20 01:42:26.75   Class :character   Class :character  \n",
       " Median :2021-08-14 16:42:47.50   Mode  :character   Mode  :character  \n",
       " Mean   :2021-08-23 23:17:48.84                                        \n",
       " 3rd Qu.:2021-10-10 10:20:03.75                                        \n",
       " Max.   :2022-04-01 22:10:12.00                                        \n",
       "                                                                       \n",
       " end_station_name   end_station_id       start_lat       start_lng     \n",
       " Length:4978156     Length:4978156     Min.   :41.65   Min.   :-87.83  \n",
       " Class :character   Class :character   1st Qu.:41.88   1st Qu.:-87.66  \n",
       " Mode  :character   Mode  :character   Median :41.90   Median :-87.64  \n",
       "                                       Mean   :41.90   Mean   :-87.64  \n",
       "                                       3rd Qu.:41.93   3rd Qu.:-87.63  \n",
       "                                       Max.   :45.64   Max.   :-73.80  \n",
       "                                                                       \n",
       "    end_lat         end_lng       member_casual         end_date         \n",
       " Min.   :41.39   Min.   :-88.97   Length:4978156     Min.   :2021-04-01  \n",
       " 1st Qu.:41.88   1st Qu.:-87.66   Class :character   1st Qu.:2021-06-20  \n",
       " Median :41.90   Median :-87.64   Mode  :character   Median :2021-08-14  \n",
       " Mean   :41.90   Mean   :-87.64                      Mean   :2021-08-23  \n",
       " 3rd Qu.:41.93   3rd Qu.:-87.63                      3rd Qu.:2021-10-10  \n",
       " Max.   :42.17   Max.   :-87.50                      Max.   :2022-04-01  \n",
       " NA's   :4716    NA's   :4716                                            \n",
       "   start_date        \n",
       " Min.   :2021-04-01  \n",
       " 1st Qu.:2021-06-20  \n",
       " Median :2021-08-14  \n",
       " Mean   :2021-08-23  \n",
       " 3rd Qu.:2021-10-10  \n",
       " Max.   :2022-03-31  \n",
       "                     "
      ]
     },
     "metadata": {},
     "output_type": "display_data"
    }
   ],
   "source": [
    "summary(combined_data)"
   ]
  },
  {
   "cell_type": "code",
   "execution_count": 7,
   "id": "242490f8",
   "metadata": {
    "execution": {
     "iopub.execute_input": "2024-07-14T20:37:30.127124Z",
     "iopub.status.busy": "2024-07-14T20:37:30.125434Z",
     "iopub.status.idle": "2024-07-14T20:37:31.387199Z",
     "shell.execute_reply": "2024-07-14T20:37:31.385296Z"
    },
    "papermill": {
     "duration": 1.27886,
     "end_time": "2024-07-14T20:37:31.390052",
     "exception": false,
     "start_time": "2024-07-14T20:37:30.111192",
     "status": "completed"
    },
    "tags": []
   },
   "outputs": [
    {
     "data": {
      "text/html": [
       "<style>\n",
       ".list-inline {list-style: none; margin:0; padding: 0}\n",
       ".list-inline>li {display: inline-block}\n",
       ".list-inline>li:not(:last-child)::after {content: \"\\00b7\"; padding: 0 .5ex}\n",
       "</style>\n",
       "<ol class=list-inline><li>4978156</li><li>15</li></ol>\n"
      ],
      "text/latex": [
       "\\begin{enumerate*}\n",
       "\\item 4978156\n",
       "\\item 15\n",
       "\\end{enumerate*}\n"
      ],
      "text/markdown": [
       "1. 4978156\n",
       "2. 15\n",
       "\n",
       "\n"
      ],
      "text/plain": [
       "[1] 4978156      15"
      ]
     },
     "metadata": {},
     "output_type": "display_data"
    }
   ],
   "source": [
    "filtered_data <- combined_data %>%\n",
    "  filter(start_date == end_date)\n",
    "dim(combined_data)"
   ]
  },
  {
   "cell_type": "code",
   "execution_count": 8,
   "id": "ab32aefc",
   "metadata": {
    "execution": {
     "iopub.execute_input": "2024-07-14T20:37:31.416987Z",
     "iopub.status.busy": "2024-07-14T20:37:31.415251Z",
     "iopub.status.idle": "2024-07-14T20:37:35.779307Z",
     "shell.execute_reply": "2024-07-14T20:37:35.777456Z"
    },
    "papermill": {
     "duration": 4.380458,
     "end_time": "2024-07-14T20:37:35.781970",
     "exception": false,
     "start_time": "2024-07-14T20:37:31.401512",
     "status": "completed"
    },
    "tags": []
   },
   "outputs": [
    {
     "data": {
      "text/plain": [
       "   ride_id          rideable_type        started_at                    \n",
       " Length:4978156     Length:4978156     Min.   :2021-04-01 00:03:18.00  \n",
       " Class :character   Class :character   1st Qu.:2021-06-20 01:09:13.75  \n",
       " Mode  :character   Mode  :character   Median :2021-08-14 16:17:17.50  \n",
       "                                       Mean   :2021-08-23 22:55:20.92  \n",
       "                                       3rd Qu.:2021-10-10 09:45:27.50  \n",
       "                                       Max.   :2022-03-31 23:59:47.00  \n",
       "                                                                       \n",
       "    ended_at                      start_station_name start_station_id  \n",
       " Min.   :2021-04-01 00:14:29.00   Length:4978156     Length:4978156    \n",
       " 1st Qu.:2021-06-20 01:42:26.75   Class :character   Class :character  \n",
       " Median :2021-08-14 16:42:47.50   Mode  :character   Mode  :character  \n",
       " Mean   :2021-08-23 23:17:48.84                                        \n",
       " 3rd Qu.:2021-10-10 10:20:03.75                                        \n",
       " Max.   :2022-04-01 22:10:12.00                                        \n",
       "                                                                       \n",
       " end_station_name   end_station_id       start_lat       start_lng     \n",
       " Length:4978156     Length:4978156     Min.   :41.65   Min.   :-87.83  \n",
       " Class :character   Class :character   1st Qu.:41.88   1st Qu.:-87.66  \n",
       " Mode  :character   Mode  :character   Median :41.90   Median :-87.64  \n",
       "                                       Mean   :41.90   Mean   :-87.64  \n",
       "                                       3rd Qu.:41.93   3rd Qu.:-87.63  \n",
       "                                       Max.   :45.64   Max.   :-73.80  \n",
       "                                                                       \n",
       "    end_lat         end_lng       member_casual         end_date         \n",
       " Min.   :41.39   Min.   :-88.97   Length:4978156     Min.   :2021-04-01  \n",
       " 1st Qu.:41.88   1st Qu.:-87.66   Class :character   1st Qu.:2021-06-20  \n",
       " Median :41.90   Median :-87.64   Mode  :character   Median :2021-08-14  \n",
       " Mean   :41.90   Mean   :-87.64                      Mean   :2021-08-23  \n",
       " 3rd Qu.:41.93   3rd Qu.:-87.63                      3rd Qu.:2021-10-10  \n",
       " Max.   :42.17   Max.   :-87.50                      Max.   :2022-04-01  \n",
       " NA's   :4716    NA's   :4716                                            \n",
       "   start_date        \n",
       " Min.   :2021-04-01  \n",
       " 1st Qu.:2021-06-20  \n",
       " Median :2021-08-14  \n",
       " Mean   :2021-08-23  \n",
       " 3rd Qu.:2021-10-10  \n",
       " Max.   :2022-03-31  \n",
       "                     "
      ]
     },
     "metadata": {},
     "output_type": "display_data"
    }
   ],
   "source": [
    "summary(combined_data)"
   ]
  },
  {
   "cell_type": "code",
   "execution_count": 9,
   "id": "ad4b6471",
   "metadata": {
    "execution": {
     "iopub.execute_input": "2024-07-14T20:37:35.809787Z",
     "iopub.status.busy": "2024-07-14T20:37:35.807963Z",
     "iopub.status.idle": "2024-07-14T20:37:35.836207Z",
     "shell.execute_reply": "2024-07-14T20:37:35.834352Z"
    },
    "papermill": {
     "duration": 0.045155,
     "end_time": "2024-07-14T20:37:35.838795",
     "exception": false,
     "start_time": "2024-07-14T20:37:35.793640",
     "status": "completed"
    },
    "tags": []
   },
   "outputs": [
    {
     "data": {
      "text/html": [
       "<style>\n",
       ".list-inline {list-style: none; margin:0; padding: 0}\n",
       ".list-inline>li {display: inline-block}\n",
       ".list-inline>li:not(:last-child)::after {content: \"\\00b7\"; padding: 0 .5ex}\n",
       "</style>\n",
       "<ol class=list-inline><li>'rideable_type'</li><li>'started_at'</li><li>'ended_at'</li><li>'start_station_name'</li><li>'start_station_id'</li><li>'start_lat'</li><li>'start_lng'</li><li>'member_casual'</li><li>'end_date'</li><li>'start_date'</li></ol>\n"
      ],
      "text/latex": [
       "\\begin{enumerate*}\n",
       "\\item 'rideable\\_type'\n",
       "\\item 'started\\_at'\n",
       "\\item 'ended\\_at'\n",
       "\\item 'start\\_station\\_name'\n",
       "\\item 'start\\_station\\_id'\n",
       "\\item 'start\\_lat'\n",
       "\\item 'start\\_lng'\n",
       "\\item 'member\\_casual'\n",
       "\\item 'end\\_date'\n",
       "\\item 'start\\_date'\n",
       "\\end{enumerate*}\n"
      ],
      "text/markdown": [
       "1. 'rideable_type'\n",
       "2. 'started_at'\n",
       "3. 'ended_at'\n",
       "4. 'start_station_name'\n",
       "5. 'start_station_id'\n",
       "6. 'start_lat'\n",
       "7. 'start_lng'\n",
       "8. 'member_casual'\n",
       "9. 'end_date'\n",
       "10. 'start_date'\n",
       "\n",
       "\n"
      ],
      "text/plain": [
       " [1] \"rideable_type\"      \"started_at\"         \"ended_at\"          \n",
       " [4] \"start_station_name\" \"start_station_id\"   \"start_lat\"         \n",
       " [7] \"start_lng\"          \"member_casual\"      \"end_date\"          \n",
       "[10] \"start_date\"        "
      ]
     },
     "metadata": {},
     "output_type": "display_data"
    }
   ],
   "source": [
    "combined_data <- combined_data  %>%\n",
    "  select(-c(ride_id, end_station_name, end_station_id, end_lat, end_lng))\n",
    "names(combined_data)"
   ]
  },
  {
   "cell_type": "markdown",
   "id": "198c11a4",
   "metadata": {
    "papermill": {
     "duration": 0.011879,
     "end_time": "2024-07-14T20:37:35.862611",
     "exception": false,
     "start_time": "2024-07-14T20:37:35.850732",
     "status": "completed"
    },
    "tags": []
   },
   "source": [
    "## Launch ChatGPT Plus"
   ]
  },
  {
   "cell_type": "code",
   "execution_count": 10,
   "id": "be9acde1",
   "metadata": {
    "execution": {
     "iopub.execute_input": "2024-07-14T20:37:35.890748Z",
     "iopub.status.busy": "2024-07-14T20:37:35.888985Z",
     "iopub.status.idle": "2024-07-14T20:37:59.146530Z",
     "shell.execute_reply": "2024-07-14T20:37:59.144581Z"
    },
    "papermill": {
     "duration": 23.275006,
     "end_time": "2024-07-14T20:37:59.149474",
     "exception": false,
     "start_time": "2024-07-14T20:37:35.874468",
     "status": "completed"
    },
    "tags": []
   },
   "outputs": [
    {
     "data": {
      "text/plain": [
       "                                                                            \n",
       "1 function (..., list = character(), package = NULL, lib.loc = NULL,        \n",
       "2     verbose = getOption(\"verbose\"), envir = .GlobalEnv, overwrite = TRUE) \n",
       "3 {                                                                         \n",
       "4     fileExt <- function(x) {                                              \n",
       "5         db <- grepl(\"\\\\\\\\.[^.]+\\\\\\\\.(gz|bz2|xz)$\", x)                     \n",
       "6         ans <- sub(\".*\\\\\\\\.\", \"\", x)                                      "
      ]
     },
     "metadata": {},
     "output_type": "display_data"
    }
   ],
   "source": [
    "# Creating time-based features\n",
    "combined_data <- combined_data %>%\n",
    "  mutate(\n",
    "    start_hour = hour(started_at),\n",
    "    end_hour = hour(ended_at),\n",
    "    \n",
    "    start_day = day(started_at),\n",
    "    end_day = day(ended_at),\n",
    "    \n",
    "    start_month = month(started_at),\n",
    "    end_month = month(ended_at),\n",
    "    \n",
    "    start_year = year(started_at),\n",
    "    end_year = year(ended_at),\n",
    "    \n",
    "    start_weekday = wday(started_at, label = TRUE),\n",
    "    end_weekday = wday(ended_at, label = TRUE),\n",
    "    \n",
    "    is_weekend_start = ifelse(start_weekday %in% c(\"Sat\", \"Sun\"), 1, 0),\n",
    "    is_weekend_end = ifelse(end_weekday %in% c(\"Sat\", \"Sun\"), 1, 0)\n",
    "  )\n",
    "\n",
    "# Displaying the first few rows of the transformed data\n",
    "head(data)"
   ]
  },
  {
   "cell_type": "code",
   "execution_count": 11,
   "id": "4b91d61a",
   "metadata": {
    "execution": {
     "iopub.execute_input": "2024-07-14T20:37:59.178306Z",
     "iopub.status.busy": "2024-07-14T20:37:59.176289Z",
     "iopub.status.idle": "2024-07-14T20:37:59.243623Z",
     "shell.execute_reply": "2024-07-14T20:37:59.241575Z"
    },
    "papermill": {
     "duration": 0.084626,
     "end_time": "2024-07-14T20:37:59.246453",
     "exception": false,
     "start_time": "2024-07-14T20:37:59.161827",
     "status": "completed"
    },
    "tags": []
   },
   "outputs": [
    {
     "data": {
      "text/html": [
       "<table class=\"dataframe\">\n",
       "<caption>A tibble: 6 × 22</caption>\n",
       "<thead>\n",
       "\t<tr><th scope=col>rideable_type</th><th scope=col>started_at</th><th scope=col>ended_at</th><th scope=col>start_station_name</th><th scope=col>start_station_id</th><th scope=col>start_lat</th><th scope=col>start_lng</th><th scope=col>member_casual</th><th scope=col>end_date</th><th scope=col>start_date</th><th scope=col>⋯</th><th scope=col>start_day</th><th scope=col>end_day</th><th scope=col>start_month</th><th scope=col>end_month</th><th scope=col>start_year</th><th scope=col>end_year</th><th scope=col>start_weekday</th><th scope=col>end_weekday</th><th scope=col>is_weekend_start</th><th scope=col>is_weekend_end</th></tr>\n",
       "\t<tr><th scope=col>&lt;chr&gt;</th><th scope=col>&lt;dttm&gt;</th><th scope=col>&lt;dttm&gt;</th><th scope=col>&lt;chr&gt;</th><th scope=col>&lt;chr&gt;</th><th scope=col>&lt;dbl&gt;</th><th scope=col>&lt;dbl&gt;</th><th scope=col>&lt;chr&gt;</th><th scope=col>&lt;date&gt;</th><th scope=col>&lt;date&gt;</th><th scope=col>⋯</th><th scope=col>&lt;int&gt;</th><th scope=col>&lt;int&gt;</th><th scope=col>&lt;dbl&gt;</th><th scope=col>&lt;dbl&gt;</th><th scope=col>&lt;dbl&gt;</th><th scope=col>&lt;dbl&gt;</th><th scope=col>&lt;ord&gt;</th><th scope=col>&lt;ord&gt;</th><th scope=col>&lt;dbl&gt;</th><th scope=col>&lt;dbl&gt;</th></tr>\n",
       "</thead>\n",
       "<tbody>\n",
       "\t<tr><td>classic_bike</td><td>2021-04-12 18:25:36</td><td>2021-04-12 18:56:55</td><td><span style=white-space:pre-wrap>State St &amp; Pearson St   </span></td><td>TA1307000061</td><td>41.89745</td><td>-87.62872</td><td>member</td><td>2021-04-12</td><td>2021-04-12</td><td>⋯</td><td>12</td><td>12</td><td>4</td><td>4</td><td>2021</td><td>2021</td><td>Mon</td><td>Mon</td><td>0</td><td>0</td></tr>\n",
       "\t<tr><td>docked_bike </td><td>2021-04-27 17:27:11</td><td>2021-04-27 18:31:29</td><td>Dorchester Ave &amp; 49th St</td><td>KA1503000069</td><td>41.80577</td><td>-87.59246</td><td>casual</td><td>2021-04-27</td><td>2021-04-27</td><td>⋯</td><td>27</td><td>27</td><td>4</td><td>4</td><td>2021</td><td>2021</td><td>Tue</td><td>Tue</td><td>0</td><td>0</td></tr>\n",
       "\t<tr><td>docked_bike </td><td>2021-04-03 12:42:45</td><td>2021-04-07 11:40:24</td><td><span style=white-space:pre-wrap>Loomis Blvd &amp; 84th St   </span></td><td><span style=white-space:pre-wrap>20121       </span></td><td>41.74149</td><td>-87.65841</td><td>casual</td><td>2021-04-07</td><td>2021-04-03</td><td>⋯</td><td> 3</td><td> 7</td><td>4</td><td>4</td><td>2021</td><td>2021</td><td>Sat</td><td>Wed</td><td>1</td><td>0</td></tr>\n",
       "\t<tr><td>classic_bike</td><td>2021-04-17 09:17:42</td><td>2021-04-17 09:42:48</td><td>Honore St &amp; Division St </td><td>TA1305000034</td><td>41.90312</td><td>-87.67394</td><td>member</td><td>2021-04-17</td><td>2021-04-17</td><td>⋯</td><td>17</td><td>17</td><td>4</td><td>4</td><td>2021</td><td>2021</td><td>Sat</td><td>Sat</td><td>1</td><td>1</td></tr>\n",
       "\t<tr><td>docked_bike </td><td>2021-04-03 12:42:25</td><td>2021-04-03 14:13:42</td><td><span style=white-space:pre-wrap>Loomis Blvd &amp; 84th St   </span></td><td><span style=white-space:pre-wrap>20121       </span></td><td>41.74149</td><td>-87.65841</td><td>casual</td><td>2021-04-03</td><td>2021-04-03</td><td>⋯</td><td> 3</td><td> 3</td><td>4</td><td>4</td><td>2021</td><td>2021</td><td>Sat</td><td>Sat</td><td>1</td><td>1</td></tr>\n",
       "\t<tr><td>classic_bike</td><td>2021-04-25 18:43:18</td><td>2021-04-25 18:43:59</td><td><span style=white-space:pre-wrap>Clinton St &amp; Polk St    </span></td><td><span style=white-space:pre-wrap>15542       </span></td><td>41.87147</td><td>-87.64095</td><td>casual</td><td>2021-04-25</td><td>2021-04-25</td><td>⋯</td><td>25</td><td>25</td><td>4</td><td>4</td><td>2021</td><td>2021</td><td>Sun</td><td>Sun</td><td>1</td><td>1</td></tr>\n",
       "</tbody>\n",
       "</table>\n"
      ],
      "text/latex": [
       "A tibble: 6 × 22\n",
       "\\begin{tabular}{lllllllllllllllllllll}\n",
       " rideable\\_type & started\\_at & ended\\_at & start\\_station\\_name & start\\_station\\_id & start\\_lat & start\\_lng & member\\_casual & end\\_date & start\\_date & ⋯ & start\\_day & end\\_day & start\\_month & end\\_month & start\\_year & end\\_year & start\\_weekday & end\\_weekday & is\\_weekend\\_start & is\\_weekend\\_end\\\\\n",
       " <chr> & <dttm> & <dttm> & <chr> & <chr> & <dbl> & <dbl> & <chr> & <date> & <date> & ⋯ & <int> & <int> & <dbl> & <dbl> & <dbl> & <dbl> & <ord> & <ord> & <dbl> & <dbl>\\\\\n",
       "\\hline\n",
       "\t classic\\_bike & 2021-04-12 18:25:36 & 2021-04-12 18:56:55 & State St \\& Pearson St    & TA1307000061 & 41.89745 & -87.62872 & member & 2021-04-12 & 2021-04-12 & ⋯ & 12 & 12 & 4 & 4 & 2021 & 2021 & Mon & Mon & 0 & 0\\\\\n",
       "\t docked\\_bike  & 2021-04-27 17:27:11 & 2021-04-27 18:31:29 & Dorchester Ave \\& 49th St & KA1503000069 & 41.80577 & -87.59246 & casual & 2021-04-27 & 2021-04-27 & ⋯ & 27 & 27 & 4 & 4 & 2021 & 2021 & Tue & Tue & 0 & 0\\\\\n",
       "\t docked\\_bike  & 2021-04-03 12:42:45 & 2021-04-07 11:40:24 & Loomis Blvd \\& 84th St    & 20121        & 41.74149 & -87.65841 & casual & 2021-04-07 & 2021-04-03 & ⋯ &  3 &  7 & 4 & 4 & 2021 & 2021 & Sat & Wed & 1 & 0\\\\\n",
       "\t classic\\_bike & 2021-04-17 09:17:42 & 2021-04-17 09:42:48 & Honore St \\& Division St  & TA1305000034 & 41.90312 & -87.67394 & member & 2021-04-17 & 2021-04-17 & ⋯ & 17 & 17 & 4 & 4 & 2021 & 2021 & Sat & Sat & 1 & 1\\\\\n",
       "\t docked\\_bike  & 2021-04-03 12:42:25 & 2021-04-03 14:13:42 & Loomis Blvd \\& 84th St    & 20121        & 41.74149 & -87.65841 & casual & 2021-04-03 & 2021-04-03 & ⋯ &  3 &  3 & 4 & 4 & 2021 & 2021 & Sat & Sat & 1 & 1\\\\\n",
       "\t classic\\_bike & 2021-04-25 18:43:18 & 2021-04-25 18:43:59 & Clinton St \\& Polk St     & 15542        & 41.87147 & -87.64095 & casual & 2021-04-25 & 2021-04-25 & ⋯ & 25 & 25 & 4 & 4 & 2021 & 2021 & Sun & Sun & 1 & 1\\\\\n",
       "\\end{tabular}\n"
      ],
      "text/markdown": [
       "\n",
       "A tibble: 6 × 22\n",
       "\n",
       "| rideable_type &lt;chr&gt; | started_at &lt;dttm&gt; | ended_at &lt;dttm&gt; | start_station_name &lt;chr&gt; | start_station_id &lt;chr&gt; | start_lat &lt;dbl&gt; | start_lng &lt;dbl&gt; | member_casual &lt;chr&gt; | end_date &lt;date&gt; | start_date &lt;date&gt; | ⋯ ⋯ | start_day &lt;int&gt; | end_day &lt;int&gt; | start_month &lt;dbl&gt; | end_month &lt;dbl&gt; | start_year &lt;dbl&gt; | end_year &lt;dbl&gt; | start_weekday &lt;ord&gt; | end_weekday &lt;ord&gt; | is_weekend_start &lt;dbl&gt; | is_weekend_end &lt;dbl&gt; |\n",
       "|---|---|---|---|---|---|---|---|---|---|---|---|---|---|---|---|---|---|---|---|---|\n",
       "| classic_bike | 2021-04-12 18:25:36 | 2021-04-12 18:56:55 | State St &amp; Pearson St    | TA1307000061 | 41.89745 | -87.62872 | member | 2021-04-12 | 2021-04-12 | ⋯ | 12 | 12 | 4 | 4 | 2021 | 2021 | Mon | Mon | 0 | 0 |\n",
       "| docked_bike  | 2021-04-27 17:27:11 | 2021-04-27 18:31:29 | Dorchester Ave &amp; 49th St | KA1503000069 | 41.80577 | -87.59246 | casual | 2021-04-27 | 2021-04-27 | ⋯ | 27 | 27 | 4 | 4 | 2021 | 2021 | Tue | Tue | 0 | 0 |\n",
       "| docked_bike  | 2021-04-03 12:42:45 | 2021-04-07 11:40:24 | Loomis Blvd &amp; 84th St    | 20121        | 41.74149 | -87.65841 | casual | 2021-04-07 | 2021-04-03 | ⋯ |  3 |  7 | 4 | 4 | 2021 | 2021 | Sat | Wed | 1 | 0 |\n",
       "| classic_bike | 2021-04-17 09:17:42 | 2021-04-17 09:42:48 | Honore St &amp; Division St  | TA1305000034 | 41.90312 | -87.67394 | member | 2021-04-17 | 2021-04-17 | ⋯ | 17 | 17 | 4 | 4 | 2021 | 2021 | Sat | Sat | 1 | 1 |\n",
       "| docked_bike  | 2021-04-03 12:42:25 | 2021-04-03 14:13:42 | Loomis Blvd &amp; 84th St    | 20121        | 41.74149 | -87.65841 | casual | 2021-04-03 | 2021-04-03 | ⋯ |  3 |  3 | 4 | 4 | 2021 | 2021 | Sat | Sat | 1 | 1 |\n",
       "| classic_bike | 2021-04-25 18:43:18 | 2021-04-25 18:43:59 | Clinton St &amp; Polk St     | 15542        | 41.87147 | -87.64095 | casual | 2021-04-25 | 2021-04-25 | ⋯ | 25 | 25 | 4 | 4 | 2021 | 2021 | Sun | Sun | 1 | 1 |\n",
       "\n"
      ],
      "text/plain": [
       "  rideable_type started_at          ended_at           \n",
       "1 classic_bike  2021-04-12 18:25:36 2021-04-12 18:56:55\n",
       "2 docked_bike   2021-04-27 17:27:11 2021-04-27 18:31:29\n",
       "3 docked_bike   2021-04-03 12:42:45 2021-04-07 11:40:24\n",
       "4 classic_bike  2021-04-17 09:17:42 2021-04-17 09:42:48\n",
       "5 docked_bike   2021-04-03 12:42:25 2021-04-03 14:13:42\n",
       "6 classic_bike  2021-04-25 18:43:18 2021-04-25 18:43:59\n",
       "  start_station_name       start_station_id start_lat start_lng member_casual\n",
       "1 State St & Pearson St    TA1307000061     41.89745  -87.62872 member       \n",
       "2 Dorchester Ave & 49th St KA1503000069     41.80577  -87.59246 casual       \n",
       "3 Loomis Blvd & 84th St    20121            41.74149  -87.65841 casual       \n",
       "4 Honore St & Division St  TA1305000034     41.90312  -87.67394 member       \n",
       "5 Loomis Blvd & 84th St    20121            41.74149  -87.65841 casual       \n",
       "6 Clinton St & Polk St     15542            41.87147  -87.64095 casual       \n",
       "  end_date   start_date ⋯ start_day end_day start_month end_month start_year\n",
       "1 2021-04-12 2021-04-12 ⋯ 12        12      4           4         2021      \n",
       "2 2021-04-27 2021-04-27 ⋯ 27        27      4           4         2021      \n",
       "3 2021-04-07 2021-04-03 ⋯  3         7      4           4         2021      \n",
       "4 2021-04-17 2021-04-17 ⋯ 17        17      4           4         2021      \n",
       "5 2021-04-03 2021-04-03 ⋯  3         3      4           4         2021      \n",
       "6 2021-04-25 2021-04-25 ⋯ 25        25      4           4         2021      \n",
       "  end_year start_weekday end_weekday is_weekend_start is_weekend_end\n",
       "1 2021     Mon           Mon         0                0             \n",
       "2 2021     Tue           Tue         0                0             \n",
       "3 2021     Sat           Wed         1                0             \n",
       "4 2021     Sat           Sat         1                1             \n",
       "5 2021     Sat           Sat         1                1             \n",
       "6 2021     Sun           Sun         1                1             "
      ]
     },
     "metadata": {},
     "output_type": "display_data"
    }
   ],
   "source": [
    "head(combined_data)"
   ]
  },
  {
   "cell_type": "code",
   "execution_count": 12,
   "id": "463d7a40",
   "metadata": {
    "execution": {
     "iopub.execute_input": "2024-07-14T20:37:59.275831Z",
     "iopub.status.busy": "2024-07-14T20:37:59.274012Z",
     "iopub.status.idle": "2024-07-14T20:38:01.893605Z",
     "shell.execute_reply": "2024-07-14T20:38:01.891577Z"
    },
    "papermill": {
     "duration": 2.637373,
     "end_time": "2024-07-14T20:38:01.896374",
     "exception": false,
     "start_time": "2024-07-14T20:37:59.259001",
     "status": "completed"
    },
    "tags": []
   },
   "outputs": [],
   "source": [
    "# Calculating the trip duration in minutes\n",
    "combined_data <- combined_data %>%\n",
    "  mutate(trip_duration = as.numeric(difftime(ended_at, started_at, units = \"mins\")))\n",
    "combined_data <-  combined_data %>%\n",
    "  mutate(trip_duration = abs(trip_duration))\n",
    "\n",
    "combined_data <- combined_data %>% filter(trip_duration > 1)"
   ]
  },
  {
   "cell_type": "code",
   "execution_count": 13,
   "id": "fa4c3767",
   "metadata": {
    "execution": {
     "iopub.execute_input": "2024-07-14T20:38:01.926003Z",
     "iopub.status.busy": "2024-07-14T20:38:01.924231Z",
     "iopub.status.idle": "2024-07-14T20:38:02.235927Z",
     "shell.execute_reply": "2024-07-14T20:38:02.233970Z"
    },
    "papermill": {
     "duration": 0.329751,
     "end_time": "2024-07-14T20:38:02.238583",
     "exception": false,
     "start_time": "2024-07-14T20:38:01.908832",
     "status": "completed"
    },
    "tags": []
   },
   "outputs": [
    {
     "data": {
      "text/plain": [
       "    Min.  1st Qu.   Median     Mean  3rd Qu.     Max. \n",
       "    1.02     6.93    12.10    22.77    21.92 55944.15 "
      ]
     },
     "metadata": {},
     "output_type": "display_data"
    }
   ],
   "source": [
    "# Displaying the first few rows of the data with the new column\n",
    "summary(combined_data$trip_duration)"
   ]
  },
  {
   "cell_type": "markdown",
   "id": "3e03b548",
   "metadata": {
    "papermill": {
     "duration": 0.012662,
     "end_time": "2024-07-14T20:38:02.263837",
     "exception": false,
     "start_time": "2024-07-14T20:38:02.251175",
     "status": "completed"
    },
    "tags": []
   },
   "source": [
    "## Analysis of Trip Duration"
   ]
  },
  {
   "cell_type": "code",
   "execution_count": 14,
   "id": "3ad68d1c",
   "metadata": {
    "execution": {
     "iopub.execute_input": "2024-07-14T20:38:02.293047Z",
     "iopub.status.busy": "2024-07-14T20:38:02.291190Z",
     "iopub.status.idle": "2024-07-14T20:38:04.435104Z",
     "shell.execute_reply": "2024-07-14T20:38:04.433175Z"
    },
    "papermill": {
     "duration": 2.161457,
     "end_time": "2024-07-14T20:38:04.437814",
     "exception": false,
     "start_time": "2024-07-14T20:38:02.276357",
     "status": "completed"
    },
    "tags": []
   },
   "outputs": [
    {
     "data": {
      "text/html": [
       "<table class=\"dataframe\">\n",
       "<caption>A tibble: 1 × 12</caption>\n",
       "<thead>\n",
       "\t<tr><th scope=col>Mean</th><th scope=col>Median</th><th scope=col>Min</th><th scope=col>Max</th><th scope=col>Q1</th><th scope=col>Q3</th><th scope=col>IQR</th><th scope=col>Std_Dev</th><th scope=col>Variance</th><th scope=col>Range</th><th scope=col>Skewness</th><th scope=col>Kurtosis</th></tr>\n",
       "\t<tr><th scope=col>&lt;dbl&gt;</th><th scope=col>&lt;dbl&gt;</th><th scope=col>&lt;dbl&gt;</th><th scope=col>&lt;dbl&gt;</th><th scope=col>&lt;dbl&gt;</th><th scope=col>&lt;dbl&gt;</th><th scope=col>&lt;dbl&gt;</th><th scope=col>&lt;dbl&gt;</th><th scope=col>&lt;dbl&gt;</th><th scope=col>&lt;dbl&gt;</th><th scope=col>&lt;dbl&gt;</th><th scope=col>&lt;dbl&gt;</th></tr>\n",
       "</thead>\n",
       "<tbody>\n",
       "\t<tr><td>22.76998</td><td>12.1</td><td>1.016667</td><td>55944.15</td><td>6.933333</td><td>21.91667</td><td>14.98333</td><td>190.9626</td><td>36466.71</td><td>55943.13</td><td>129.0866</td><td>22631.93</td></tr>\n",
       "</tbody>\n",
       "</table>\n"
      ],
      "text/latex": [
       "A tibble: 1 × 12\n",
       "\\begin{tabular}{llllllllllll}\n",
       " Mean & Median & Min & Max & Q1 & Q3 & IQR & Std\\_Dev & Variance & Range & Skewness & Kurtosis\\\\\n",
       " <dbl> & <dbl> & <dbl> & <dbl> & <dbl> & <dbl> & <dbl> & <dbl> & <dbl> & <dbl> & <dbl> & <dbl>\\\\\n",
       "\\hline\n",
       "\t 22.76998 & 12.1 & 1.016667 & 55944.15 & 6.933333 & 21.91667 & 14.98333 & 190.9626 & 36466.71 & 55943.13 & 129.0866 & 22631.93\\\\\n",
       "\\end{tabular}\n"
      ],
      "text/markdown": [
       "\n",
       "A tibble: 1 × 12\n",
       "\n",
       "| Mean &lt;dbl&gt; | Median &lt;dbl&gt; | Min &lt;dbl&gt; | Max &lt;dbl&gt; | Q1 &lt;dbl&gt; | Q3 &lt;dbl&gt; | IQR &lt;dbl&gt; | Std_Dev &lt;dbl&gt; | Variance &lt;dbl&gt; | Range &lt;dbl&gt; | Skewness &lt;dbl&gt; | Kurtosis &lt;dbl&gt; |\n",
       "|---|---|---|---|---|---|---|---|---|---|---|---|\n",
       "| 22.76998 | 12.1 | 1.016667 | 55944.15 | 6.933333 | 21.91667 | 14.98333 | 190.9626 | 36466.71 | 55943.13 | 129.0866 | 22631.93 |\n",
       "\n"
      ],
      "text/plain": [
       "    Mean     Median Min      Max      Q1       Q3       IQR      Std_Dev \n",
       "25% 22.76998 12.1   1.016667 55944.15 6.933333 21.91667 14.98333 190.9626\n",
       "    Variance Range    Skewness Kurtosis\n",
       "25% 36466.71 55943.13 129.0866 22631.93"
      ]
     },
     "metadata": {},
     "output_type": "display_data"
    }
   ],
   "source": [
    "library(moments)  # for skewness and kurtosis\n",
    "\n",
    "desc_stats <- combined_data %>%\n",
    "  summarise(\n",
    "    Mean = mean(trip_duration, na.rm = TRUE),\n",
    "    Median = median(trip_duration, na.rm = TRUE),\n",
    "    Min = min(trip_duration, na.rm = TRUE),\n",
    "    Max = max(trip_duration, na.rm = TRUE),\n",
    "    Q1 = quantile(trip_duration, 0.25, na.rm = TRUE),\n",
    "    Q3 = quantile(trip_duration, 0.75, na.rm = TRUE),\n",
    "    IQR = Q3 - Q1,\n",
    "    Std_Dev = sd(trip_duration, na.rm = TRUE),\n",
    "    Variance = var(trip_duration, na.rm = TRUE),\n",
    "    Range = Max - Min,\n",
    "    Skewness = skewness(trip_duration, na.rm = TRUE),\n",
    "    Kurtosis = kurtosis(trip_duration, na.rm = TRUE)\n",
    "  )\n",
    "desc_stats"
   ]
  },
  {
   "cell_type": "markdown",
   "id": "50976f40",
   "metadata": {
    "papermill": {
     "duration": 0.013482,
     "end_time": "2024-07-14T20:38:04.464769",
     "exception": false,
     "start_time": "2024-07-14T20:38:04.451287",
     "status": "completed"
    },
    "tags": []
   },
   "source": [
    "## Results of the Descriptive Statistics Function"
   ]
  },
  {
   "cell_type": "markdown",
   "id": "97bfaba5",
   "metadata": {
    "papermill": {
     "duration": 0.013263,
     "end_time": "2024-07-14T20:38:04.491190",
     "exception": false,
     "start_time": "2024-07-14T20:38:04.477927",
     "status": "completed"
    },
    "tags": []
   },
   "source": [
    "Mean (18.97121): The average ride duration is around 19 minutes.\n",
    "Median (12.03333): Half of the rides are shorter than 12 minutes, while the other half are longer. The median being lower than the mean suggests that longer rides are skewing the average upwards.\n",
    "Minimum (1.016667): The shortest recorded ride lasted just over 1 minute.\n",
    "Maximum (1424.7): The longest recorded ride lasted approximately 1425 minutes, or nearly 24 hours.\n",
    "1st Quartile (Q1) (6.916667): 25% of rides are shorter than approximately 7 minutes.\n",
    "3rd Quartile (Q3) (21.68333): 75% of rides are shorter than approximately 22 minutes.\n",
    "Interquartile Range (IQR) (14.76667): The middle 50% of rides have durations ranging from about 7 to 22 minutes, a span of approximately 15 minutes.\n",
    "Standard Deviation (26.17043): The average variation from the mean ride duration is about 26.17 minutes, indicating a relatively wide spread.\n",
    "Variance (684.8912): The variance, representing the spread of ride durations, is the square of the standard deviation and is used in various statistical contexts.\n",
    "Range (1423.683): The ride durations vary from just over 1 minute to nearly 24 hours.\n",
    "Skewness (9.199857): The positive skewness value shows that the ride durations are skewed to the right, indicating that the data has a long right tail due to a few very long rides.\n",
    "Kurtosis (197.2369): This high kurtosis value indicates that the distribution has heavy tails and a sharp peak, meaning there are more extreme values than in a normal distribution.\n",
    "\n",
    "From these statistics, it’s clear that while most rides are relatively short (with half of the rides being under 12 minutes), there are some exceptionally long rides. These long rides are causing the distribution to be right-skewed and have a high kurtosis value, reflecting the presence of extreme values."
   ]
  },
  {
   "cell_type": "code",
   "execution_count": 15,
   "id": "a141fdbc",
   "metadata": {
    "execution": {
     "iopub.execute_input": "2024-07-14T20:38:04.521503Z",
     "iopub.status.busy": "2024-07-14T20:38:04.519795Z",
     "iopub.status.idle": "2024-07-14T20:38:26.216400Z",
     "shell.execute_reply": "2024-07-14T20:38:26.214223Z"
    },
    "papermill": {
     "duration": 21.715513,
     "end_time": "2024-07-14T20:38:26.220161",
     "exception": false,
     "start_time": "2024-07-14T20:38:04.504648",
     "status": "completed"
    },
    "tags": []
   },
   "outputs": [
    {
     "data": {
      "image/png": "[encoded data removed]"
     },
     "metadata": {
      "image/png": {
       "height": 420,
       "width": 420
      }
     },
     "output_type": "display_data"
    },
    {
     "data": {
      "image/png": "[encoded data removed]"
     },
     "metadata": {
      "image/png": {
       "height": 420,
       "width": 420
      }
     },
     "output_type": "display_data"
    },
    {
     "data": {
      "image/png": "[encoded data removed]"
     },
     "metadata": {
      "image/png": {
       "height": 420,
       "width": 420
      }
     },
     "output_type": "display_data"
    },
    {
     "data": {
      "image/png": "[encoded data removed]"
     },
     "metadata": {
      "image/png": {
       "height": 420,
       "width": 420
      }
     },
     "output_type": "display_data"
    }
   ],
   "source": [
    "library(ggthemes)\n",
    "\n",
    "# 1. Histogram with log-transformed trip duration\n",
    "ggplot(combined_data, aes(x = log1p(trip_duration))) +\n",
    "  geom_histogram(binwidth = 0.1, fill = \"steelblue\", color = \"black\", alpha = 0.7) +\n",
    "  theme_minimal() +\n",
    "  labs(title = \"Log-Transformed Distribution of Trip Duration\", x = \"Log(1 + Trip Duration) (minutes)\", y = \"Number of Rides\")\n",
    "\n",
    "# 2. Boxplot with log-transformed trip duration\n",
    "ggplot(combined_data, aes(y = log1p(trip_duration))) +\n",
    "  geom_boxplot(fill = \"steelblue\", color = \"black\", alpha = 0.7) +\n",
    "  theme_minimal() +\n",
    "  labs(title = \"Boxplot of Log-Transformed Trip Duration\", x = \"\", y = \"Log(1 + Trip Duration) (minutes)\")\n",
    "\n",
    "# 3. Density Plot with log-transformed trip duration\n",
    "ggplot(combined_data, aes(x = log1p(trip_duration))) +\n",
    "  geom_density(fill = \"steelblue\", alpha = 0.7) +\n",
    "  theme_minimal() +\n",
    "  labs(title = \"Density Plot of Log-Transformed Trip Duration\", x = \"Log(1 + Trip Duration) (minutes)\", y = \"Density\")\n",
    "\n",
    "# 4. Bar Plot for Hour of the Day\n",
    "ggplot(combined_data, aes(x = factor(start_hour))) +\n",
    "  geom_bar(fill = \"steelblue\", color = \"black\", alpha = 0.7) +\n",
    "  theme_minimal() +\n",
    "  labs(title = \"Number of Rides per Hour\", x = \"Hour of the Day\", y = \"Number of Rides\")"
   ]
  },
  {
   "cell_type": "markdown",
   "id": "8dc0dc2b",
   "metadata": {
    "papermill": {
     "duration": 0.0165,
     "end_time": "2024-07-14T20:38:26.253575",
     "exception": false,
     "start_time": "2024-07-14T20:38:26.237075",
     "status": "completed"
    },
    "tags": []
   },
   "source": []
  }
 ],
 "metadata": {
  "kaggle": {
   "accelerator": "none",
   "dataSources": [
    {
     "datasetId": 2145411,
     "sourceId": 3570631,
     "sourceType": "datasetVersion"
    },
    {
     "datasetId": 5388545,
     "sourceId": 8953706,
     "sourceType": "datasetVersion"
    },
    {
     "datasetId": 1707275,
     "sourceId": 2795286,
     "sourceType": "datasetVersion"
    },
    {
     "datasetId": 5388552,
     "sourceId": 8953716,
     "sourceType": "datasetVersion"
    }
   ],
   "dockerImageVersionId": 30749,
   "isGpuEnabled": false,
   "isInternetEnabled": true,
   "language": "r",
   "sourceType": "notebook"
  },
  "kernelspec": {
   "display_name": "R",
   "language": "R",
   "name": "ir"
  },
  "language_info": {
   "codemirror_mode": "r",
   "file_extension": ".r",
   "mimetype": "text/x-r-source",
   "name": "R",
   "pygments_lexer": "r",
   "version": "4.4.0"
  },
  "papermill": {
   "default_parameters": {},
   "duration": 116.747324,
   "end_time": "2024-07-14T20:38:26.594355",
   "environment_variables": {},
   "exception": null,
   "input_path": "__notebook__.ipynb",
   "output_path": "__notebook__.ipynb",
   "parameters": {},
   "start_time": "2024-07-14T20:36:29.847031",
   "version": "2.6.0"
  }
 },
 "nbformat": 4,
 "nbformat_minor": 5
}
